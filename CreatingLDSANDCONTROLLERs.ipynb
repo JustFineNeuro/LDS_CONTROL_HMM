{
  "nbformat": 4,
  "nbformat_minor": 0,
  "metadata": {
    "colab": {
      "name": "CreatingLDSANDCONTROLLERs.ipynb",
      "provenance": [],
      "authorship_tag": "ABX9TyPE35K303rGjMIGbFNgWO3n",
      "include_colab_link": true
    },
    "kernelspec": {
      "name": "python3",
      "display_name": "Python 3"
    },
    "language_info": {
      "name": "python"
    }
  },
  "cells": [
    {
      "cell_type": "markdown",
      "metadata": {
        "id": "view-in-github",
        "colab_type": "text"
      },
      "source": [
        "<a href=\"https://colab.research.google.com/github/JustFineNeuro/LDS_CONTROL_HMM/blob/main/CreatingLDSANDCONTROLLERs.ipynb\" target=\"_parent\"><img src=\"https://colab.research.google.com/assets/colab-badge.svg\" alt=\"Open In Colab\"/></a>"
      ]
    },
    {
      "cell_type": "code",
      "metadata": {
        "id": "I_cKlSMdeca7"
      },
      "source": [
        "from scipy import signal\n",
        "import scipy.linalg\n",
        "import numpy as np"
      ],
      "execution_count": 26,
      "outputs": []
    },
    {
      "cell_type": "markdown",
      "metadata": {
        "id": "tcAdMyNQeijq"
      },
      "source": [
        "Specify a linear state space model of the form w/signal independent noise:\n",
        "\n",
        "Evolution/process equation\n",
        "$x(t+1)=Ax(t)+Bu(t)+Normal(0,\\sigma_1)$\n",
        "\n",
        "Observation equation\n",
        "$y(t)=Cx(t)+Dw(t)+Normal(0,\\sigma_2)$\n",
        "\n",
        "\n",
        "References\n",
        "https://www.textroad.com/pdf/JAEBS/J.%20Appl.%20Environ.%20Biol.%20Sci.,%205(4S)1-11,%202015.pdf"
      ]
    },
    {
      "cell_type": "code",
      "metadata": {
        "colab": {
          "base_uri": "https://localhost:8080/"
        },
        "id": "Mu7mYxI8fFUD",
        "outputId": "fff6528a-897b-43c3-919d-56060bd410b4"
      },
      "source": [
        "#Sampling frequency =1/60 Hz\n",
        "\n",
        "dt=1/60\n",
        "\n",
        "#Discretized system for constant velocity joystick: 2D\n",
        "A=np.matrix([[1 ,dt,0,0],[0 ,0,0,0],[0 ,0,1,dt],[0 ,0,0,0]])\n",
        "B=np.array([[0],[1*dt],[0],[1*dt]])\n",
        "\n",
        "C=np.array([[1],[1]])\n",
        "\n",
        "type(A)==np.matrix\n"
      ],
      "execution_count": 37,
      "outputs": [
        {
          "output_type": "execute_result",
          "data": {
            "text/plain": [
              "True"
            ]
          },
          "metadata": {},
          "execution_count": 37
        }
      ]
    },
    {
      "cell_type": "code",
      "metadata": {
        "id": "Lab6T0zWeiDE",
        "outputId": "7916aa1b-beeb-41a9-9795-8debd488b43e",
        "colab": {
          "base_uri": "https://localhost:8080/",
          "height": 197
        }
      },
      "source": [
        "class LDS:\n",
        "  def __init__(self,  ini_state: float, noise_var: float):\n",
        "    self.ini_state = ini_state\n",
        "    self.noise_var = noise_var\n",
        "    self.A=np.matrix([])\n",
        "\n",
        "  @property\n",
        "  def transition(self):\n",
        "    return self.A\n",
        "\n",
        "  @transition.setter\n",
        "  def transition(self,value):\n",
        "    if type(value)==np.matrix:\n",
        "      self.A=value\n",
        "    else:\n",
        "      raise ValueError('Transition matrix \"A\" must be a numpy matrix')\n",
        "\n",
        "\n",
        "\n",
        "B=LDS(1,1)\n",
        "B.transition(np.matrix([[1 ,dt,0,0],[0 ,0,0,0],[0 ,0,1,dt],[0 ,0,0,0]]))"
      ],
      "execution_count": 45,
      "outputs": [
        {
          "output_type": "error",
          "ename": "TypeError",
          "evalue": "ignored",
          "traceback": [
            "\u001b[0;31m---------------------------------------------------------------------------\u001b[0m",
            "\u001b[0;31mTypeError\u001b[0m                                 Traceback (most recent call last)",
            "\u001b[0;32m<ipython-input-45-fe4ca5d7d07b>\u001b[0m in \u001b[0;36m<module>\u001b[0;34m()\u001b[0m\n\u001b[1;32m     19\u001b[0m \u001b[0;34m\u001b[0m\u001b[0m\n\u001b[1;32m     20\u001b[0m \u001b[0mB\u001b[0m\u001b[0;34m=\u001b[0m\u001b[0mLDS\u001b[0m\u001b[0;34m(\u001b[0m\u001b[0;36m1\u001b[0m\u001b[0;34m,\u001b[0m\u001b[0;36m1\u001b[0m\u001b[0;34m)\u001b[0m\u001b[0;34m\u001b[0m\u001b[0;34m\u001b[0m\u001b[0m\n\u001b[0;32m---> 21\u001b[0;31m \u001b[0mB\u001b[0m\u001b[0;34m.\u001b[0m\u001b[0mtransition\u001b[0m\u001b[0;34m(\u001b[0m\u001b[0mnp\u001b[0m\u001b[0;34m.\u001b[0m\u001b[0mmatrix\u001b[0m\u001b[0;34m(\u001b[0m\u001b[0;34m[\u001b[0m\u001b[0;34m[\u001b[0m\u001b[0;36m1\u001b[0m \u001b[0;34m,\u001b[0m\u001b[0mdt\u001b[0m\u001b[0;34m,\u001b[0m\u001b[0;36m0\u001b[0m\u001b[0;34m,\u001b[0m\u001b[0;36m0\u001b[0m\u001b[0;34m]\u001b[0m\u001b[0;34m,\u001b[0m\u001b[0;34m[\u001b[0m\u001b[0;36m0\u001b[0m \u001b[0;34m,\u001b[0m\u001b[0;36m0\u001b[0m\u001b[0;34m,\u001b[0m\u001b[0;36m0\u001b[0m\u001b[0;34m,\u001b[0m\u001b[0;36m0\u001b[0m\u001b[0;34m]\u001b[0m\u001b[0;34m,\u001b[0m\u001b[0;34m[\u001b[0m\u001b[0;36m0\u001b[0m \u001b[0;34m,\u001b[0m\u001b[0;36m0\u001b[0m\u001b[0;34m,\u001b[0m\u001b[0;36m1\u001b[0m\u001b[0;34m,\u001b[0m\u001b[0mdt\u001b[0m\u001b[0;34m]\u001b[0m\u001b[0;34m,\u001b[0m\u001b[0;34m[\u001b[0m\u001b[0;36m0\u001b[0m \u001b[0;34m,\u001b[0m\u001b[0;36m0\u001b[0m\u001b[0;34m,\u001b[0m\u001b[0;36m0\u001b[0m\u001b[0;34m,\u001b[0m\u001b[0;36m0\u001b[0m\u001b[0;34m]\u001b[0m\u001b[0;34m]\u001b[0m\u001b[0;34m)\u001b[0m\u001b[0;34m)\u001b[0m\u001b[0;34m\u001b[0m\u001b[0;34m\u001b[0m\u001b[0m\n\u001b[0m",
            "\u001b[0;31mTypeError\u001b[0m: 'matrix' object is not callable"
          ]
        }
      ]
    },
    {
      "cell_type": "code",
      "source": [
        "\n",
        "  def dynamics_run(self,D, B, L):\n",
        "\n",
        "    s = np.zeros(self.T)  # states initialization\n",
        "    s[0] = self.ini_state\n",
        "    noise = np.random.normal(0, self.noise_var, self.T)\n",
        "    a = np.zeros(self.T - 1)\n",
        "\n",
        "    for t in range(self.T - 1):\n",
        "      # calculate the current action\n",
        "      a[t] = L[t] * s[t]\n",
        "      # calculate the next state\n",
        "      s[t + 1] =D * s[t] + B * a[t] + noise[t]\n",
        "\n",
        "    return s, a\n"
      ],
      "metadata": {
        "id": "cA3IHoXPJuoi"
      },
      "execution_count": null,
      "outputs": []
    },
    {
      "cell_type": "code",
      "source": [
        "def dlqr(A,B,Q,R):\n",
        "  \"\"\"\n",
        "  solve the discrete-time system, steady-state (infinite horizon) LQR controller\n",
        "  cost = sum x[k].T*Q*x[k] + u[k].T*R*u[k]\n",
        "  \"\"\"\n",
        "  #first, try to solve the ricatti equation\n",
        "  X = np.matrix(scipy.linalg.solve_discrete_are(A,B,Q,R))\n",
        "\n",
        "  #Compute the steady state\n",
        "  K = np.matrix(scipy.linalg.inv(B.T*X*B+R)*(B.T*X*A))\n",
        "\n",
        "  return K\n",
        "\n",
        "def dlqr_ratio(A,B,rho):\n",
        "  #TODO \n",
        "#P_store = zeros(2,2);\n",
        " #       P = Q;\n",
        "  #      while norm(P-P_store)>0.001\n",
        "   #         P_store = P;\n",
        "    #        P = Q+A'*P*A-A'*P*B/(R+B'*P*B)*B'*P*A;\n",
        "     #   end\n",
        "          \n",
        "      #  % Compute optimal control law (change R here)\n",
        "       # K = (R+B'*P*B)\\B'*P*A;\n",
        "  return K"
      ],
      "metadata": {
        "id": "smM99iOavL_1"
      },
      "execution_count": 30,
      "outputs": []
    },
    {
      "cell_type": "code",
      "source": [
        "#@markdown Execute this cell to test dlqr function\n",
        "\n",
        "dt=1/60\n",
        "\n",
        "#Discretized system for constant velocity joystick: 1D\n",
        "A=np.matrix([[1 ,dt],[0 ,0]])\n",
        "B=np.array([[0],[dt**2]])\n",
        "\n",
        "C=np.array([[1],[1]])\n",
        "\n",
        "\n",
        "# Define our costs:\n",
        "Q = np.matrix([[1,0],[0,0]])\n",
        "R = np.matrix([[20]])\n",
        "dlqr(A,B,Q,R)"
      ],
      "metadata": {
        "id": "wa-pB3Qu7EEb",
        "outputId": "826c39a3-ae97-40ea-ce70-497a95c00305",
        "colab": {
          "base_uri": "https://localhost:8080/"
        }
      },
      "execution_count": 33,
      "outputs": [
        {
          "output_type": "execute_result",
          "data": {
            "text/plain": [
              "matrix([[0.38729799, 0.00645497]])"
            ]
          },
          "metadata": {},
          "execution_count": 33
        }
      ]
    },
    {
      "cell_type": "code",
      "source": [
        "class LDS:\n",
        "  def __init__(self, T: int, ini_state: float, noise_var: float):\n",
        "    #self.T = T  # time horizon\n",
        "    self.ini_state = ini_state\n",
        "    self.noise_var = noise_var\n",
        "\n",
        "\n",
        "\n",
        "  def step_update(self,D, B, L):\n",
        "\n",
        "    s = np.zeros(self.T)  # states initialization\n",
        "    s[0] = self.ini_state\n",
        "    noise = np.random.normal(0, self.noise_var, self.T)\n",
        "    a = np.zeros(self.T - 1)\n",
        "\n",
        "    for t in range(self.T - 1):\n",
        "      # calculate the current action\n",
        "      a[t] = L[t] * s[t]\n",
        "      # calculate the next state\n",
        "      s[t + 1] =D * s[t] + B * a[t] + noise[t]\n",
        "\n",
        "    return s, a"
      ],
      "metadata": {
        "id": "4dL_F0uPCAct"
      },
      "execution_count": null,
      "outputs": []
    },
    {
      "cell_type": "code",
      "source": [
        "class LQR(LDS):\n",
        "  def __init__(self, T, ini_state, noise_var):\n",
        "    super().__init__(T, ini_state, noise_var)\n",
        "    self.goal = np.zeros(T)  # The class LQR only supports g=0\n",
        "\n",
        "  def control_gain_LQR(self, D, B, rho):\n",
        "    P = np.zeros(self.T)  # Dynamic programming variable\n",
        "    L = np.zeros(self.T - 1)  # control gain\n",
        "    P[-1] = 1\n",
        "\n",
        "    for t in range(self.T - 1):\n",
        "        P_t_1 = P[self.T - t - 1]\n",
        "        P[self.T - t-2] = (1 + P_t_1 * D**2 - D * P_t_1 * B / (\n",
        "                rho + P_t_1 * B) * B**2 * P_t_1 * D)\n",
        "\n",
        "        L[self.T - t-2] = - (1 / (rho + P_t_1 * B**2) * B * P_t_1 * D)\n",
        "    return L\n",
        "\n",
        "  def calculate_J_state(self, s:np.ndarray):\n",
        "    # calculate the state\n",
        "    J_state = np.sum((s - self.goal)**2)\n",
        "\n",
        "    return J_state\n",
        "\n",
        "  def calculate_J_control(self, a:np.ndarray):\n",
        "    # calculate the control\n",
        "    J_control = np.sum(a**2)\n",
        "\n",
        "    return J_control\n"
      ],
      "metadata": {
        "id": "Qx2SfkBNpbHs"
      },
      "execution_count": 5,
      "outputs": []
    },
    {
      "cell_type": "code",
      "source": [
        "#@markdown Execute this cell to include class\n",
        "#@markdown for LQR control to desired time-varying goal\n",
        "\n",
        "class LQR_tracking(LQR):\n",
        "  def __init__(self, T, ini_state, noise_var, goal):\n",
        "    super().__init__(T, ini_state, noise_var)\n",
        "    self.goal = goal\n",
        "\n",
        "  def dynamics_tracking(self, D, B, L):\n",
        "\n",
        "    s = np.zeros(self.T) # states intialization\n",
        "    s[0] = self.ini_state\n",
        "\n",
        "    noise = np.random.normal(0, self.noise_var, self.T)\n",
        "\n",
        "    a = np.zeros(self.T) # control intialization\n",
        "    a_bar = np.zeros(self.T)\n",
        "    for t in range(self.T - 1):\n",
        "        a_bar[t] = ( - D * s[t] + self.goal[t + 1]) / B\n",
        "        a[t] =  L[t] * (s[t] - self.goal[t]) + a_bar[t]\n",
        "        s[t + 1] = D * s[t] + B * a[t] + noise[t]\n",
        "\n",
        "    return s, a, a_bar\n",
        "\n",
        "  def calculate_J_state(self,s):\n",
        "    J_state = np.sum((s-self.g)**2)\n",
        "    return J_state\n",
        "\n",
        "  def calculate_J_control(self, a, a_bar):\n",
        "    J_control = np.sum((a-a_bar)**2)\n",
        "    return J_control"
      ],
      "metadata": {
        "id": "6LTgf3JjpqDH"
      },
      "execution_count": 6,
      "outputs": []
    },
    {
      "cell_type": "code",
      "source": [
        "\n",
        "def simulate_tracking(rho=20., noise_var=0.1, goal_func='sin'):\n",
        "  D, B, T, ini_state = 0.9, 2., 100, 0.\n",
        "  if goal_func == 'sin':\n",
        "      goal = np.sin(np.arange(T) * 2 * np.pi * 5 / T)\n",
        "  elif goal_func == 'step':\n",
        "      goal = np.zeros(T)\n",
        "      goal[int(T / 3):] = 1.\n",
        "  elif goal_func == 'ramp':\n",
        "      goal = np.zeros(T)\n",
        "      goal[int(T / 3):] = np.arange(T - int(T / 3)) / (T - int(T / 3))\n",
        "\n",
        "  lqr_time = LQR_tracking(T, ini_state, noise_var, goal) #initiates an tracking problem independent of system\n",
        "  L = lqr_time.control_gain_LQR(D, B, rho)\n",
        "  s_lqr_time, a_lqr_time, a_bar_lqr_time = lqr_time.dynamics_tracking(D, B, L)\n",
        "  return s_lqr_time, L"
      ],
      "metadata": {
        "id": "4hwSEjjwp5df"
      },
      "execution_count": 15,
      "outputs": []
    },
    {
      "cell_type": "code",
      "source": [
        "ss,L=simulate_tracking()\n",
        "print(L)\n",
        "import matplotlib.pyplot as plt\n",
        "plt.plot(ss)\n",
        "plt.show()\n"
      ],
      "metadata": {
        "id": "08m7VsTivzp0",
        "outputId": "536aa3af-86fb-4a4e-b00a-654670618b98",
        "colab": {
          "base_uri": "https://localhost:8080/",
          "height": 554
        }
      },
      "execution_count": 16,
      "outputs": [
        {
          "output_type": "stream",
          "name": "stdout",
          "text": [
            "[-0.10812262 -0.10812262 -0.10812262 -0.10812262 -0.10812262 -0.10812262\n",
            " -0.10812262 -0.10812262 -0.10812262 -0.10812262 -0.10812262 -0.10812262\n",
            " -0.10812262 -0.10812262 -0.10812262 -0.10812262 -0.10812262 -0.10812262\n",
            " -0.10812262 -0.10812262 -0.10812262 -0.10812262 -0.10812262 -0.10812262\n",
            " -0.10812262 -0.10812262 -0.10812262 -0.10812262 -0.10812262 -0.10812262\n",
            " -0.10812262 -0.10812262 -0.10812262 -0.10812262 -0.10812262 -0.10812262\n",
            " -0.10812262 -0.10812262 -0.10812262 -0.10812262 -0.10812262 -0.10812262\n",
            " -0.10812262 -0.10812262 -0.10812262 -0.10812262 -0.10812262 -0.10812262\n",
            " -0.10812262 -0.10812262 -0.10812262 -0.10812262 -0.10812262 -0.10812262\n",
            " -0.10812262 -0.10812262 -0.10812262 -0.10812262 -0.10812262 -0.10812262\n",
            " -0.10812262 -0.10812262 -0.10812262 -0.10812262 -0.10812262 -0.10812262\n",
            " -0.10812262 -0.10812262 -0.10812262 -0.10812262 -0.10812262 -0.10812262\n",
            " -0.10812262 -0.10812262 -0.10812262 -0.10812262 -0.10812262 -0.10812262\n",
            " -0.10812262 -0.10812262 -0.10812262 -0.10812262 -0.10812262 -0.10812262\n",
            " -0.10812262 -0.10812262 -0.10812262 -0.10812262 -0.10812262 -0.10812262\n",
            " -0.10812262 -0.10812262 -0.10812262 -0.10812262 -0.10812262 -0.10812259\n",
            " -0.10812453 -0.10466722 -0.075     ]\n"
          ]
        },
        {
          "output_type": "display_data",
          "data": {
            "image/png": "[encoded data removed]",
            "text/plain": [
              "<Figure size 432x288 with 1 Axes>"
            ]
          },
          "metadata": {
            "needs_background": "light"
          }
        }
      ]
    }
  ]
}