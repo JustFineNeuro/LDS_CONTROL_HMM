{
  "nbformat": 4,
  "nbformat_minor": 0,
  "metadata": {
    "colab": {
      "name": "CreatingLDSANDCONTROLLERs.ipynb",
      "provenance": [],
      "authorship_tag": "ABX9TyNJxHtQRz9UqthPQ95RSd5Y",
      "include_colab_link": true
    },
    "kernelspec": {
      "name": "python3",
      "display_name": "Python 3"
    },
    "language_info": {
      "name": "python"
    }
  },
  "cells": [
    {
      "cell_type": "markdown",
      "metadata": {
        "id": "view-in-github",
        "colab_type": "text"
      },
      "source": [
        "<a href=\"https://colab.research.google.com/github/JustFineNeuro/LDS_CONTROL_HMM/blob/main/CreatingLDSANDCONTROLLERs.ipynb\" target=\"_parent\"><img src=\"https://colab.research.google.com/assets/colab-badge.svg\" alt=\"Open In Colab\"/></a>"
      ]
    },
    {
      "cell_type": "code",
      "metadata": {
        "id": "I_cKlSMdeca7"
      },
      "source": [
        "from scipy import signal\n",
        "import numpy as np"
      ],
      "execution_count": null,
      "outputs": []
    },
    {
      "cell_type": "markdown",
      "metadata": {
        "id": "tcAdMyNQeijq"
      },
      "source": [
        "Specify a linear state space model of the form w/signal independent noise:\n",
        "\n",
        "Evolution/process equation\n",
        "$x(t+1)=Ax(t)+Bu(t)+Normal(0,\\sigma_1)$\n",
        "\n",
        "Observation equation\n",
        "$y(t)=Cx(t)+Dw(t)+Normal(0,\\sigma_2)$\n",
        "\n",
        "\n",
        "References\n",
        "https://www.textroad.com/pdf/JAEBS/J.%20Appl.%20Environ.%20Biol.%20Sci.,%205(4S)1-11,%202015.pdf"
      ]
    },
    {
      "cell_type": "code",
      "metadata": {
        "colab": {
          "base_uri": "https://localhost:8080/"
        },
        "id": "Mu7mYxI8fFUD",
        "outputId": "cd1888b4-fdb9-43de-d6f2-2031872067e6"
      },
      "source": [
        "#Sampling frequency =1/60 Hz\n",
        "\n",
        "dt=1/60\n",
        "\n",
        "#Discretized system for constant velocity joystick: 2D\n",
        "A=np.matrix([[1 ,dt,0,0],[0 ,0,0,0],[0 ,0,1,dt],[0 ,0,0,0]])\n",
        "B=np.array([[0],[1*dt],[0],[1*dt]])\n",
        "\n",
        "C=np.array([[1],[1]])\n"
      ],
      "execution_count": null,
      "outputs": [
        {
          "output_type": "stream",
          "name": "stdout",
          "text": [
            "[[0.        ]\n",
            " [0.01666667]]\n"
          ]
        }
      ]
    },
    {
      "cell_type": "code",
      "metadata": {
        "id": "Lab6T0zWeiDE"
      },
      "source": [
        "sys=sys.to_discrete(dt)\n",
        "\n",
        "  def dynamics_closedloop(self, D: float, B: float, L: np.ndarray):\n",
        "\n",
        "    s = np.zeros(self.T)  # states initialization\n",
        "    s[0] = self.ini_state\n",
        "    noise = np.random.normal(0, self.noise_var, self.T)\n",
        "    a = np.zeros(self.T - 1)\n",
        "\n",
        "    for t in range(self.T - 1):\n",
        "      # calculate the current action\n",
        "      a[t] = L[t] * s[t]\n",
        "      # calculate the next state\n",
        "      s[t + 1] = D * s[t] + B * a[t] + noise[t]\n",
        "\n",
        "    return s, a\n"
      ],
      "execution_count": null,
      "outputs": []
    },
    {
      "cell_type": "code",
      "metadata": {
        "colab": {
          "base_uri": "https://localhost:8080/"
        },
        "id": "7omlWFbBgCI_",
        "outputId": "978696ee-adad-4abc-dcb8-2ae88ad0fbd4"
      },
      "source": [
        "\n",
        "A*x"
      ],
      "execution_count": null,
      "outputs": [
        {
          "output_type": "execute_result",
          "data": {
            "text/plain": [
              "matrix([[1.03333333],\n",
              "        [0.        ]])"
            ]
          },
          "metadata": {},
          "execution_count": 19
        }
      ]
    }
  ]
}